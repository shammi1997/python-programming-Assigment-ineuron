{
 "cells": [
  {
   "cell_type": "markdown",
   "id": "6e3a4ba7",
   "metadata": {},
   "source": [
    "# Programming Assignment 02"
   ]
  },
  {
   "cell_type": "code",
   "execution_count": null,
   "id": "3cfa0d98",
   "metadata": {},
   "outputs": [],
   "source": [
    "1. Write a Python program to convert kilometers to miles?\n",
    "2. Write a Python program to convert Celsius to Fahrenheit?\n",
    "3. Write a Python program to display calendar?\n",
    "4. Write a Python program to solve quadratic equation?\n",
    "5. Write a Python program to swap two variables without temp variable?"
   ]
  },
  {
   "cell_type": "markdown",
   "id": "1bb6904c",
   "metadata": {},
   "source": [
    "# ------------------------------------------------------------------------------------------------------------\n"
   ]
  },
  {
   "cell_type": "code",
   "execution_count": null,
   "id": "d346093a",
   "metadata": {},
   "outputs": [],
   "source": [
    "1. Write a Python program to convert kilometers to miles?\n",
    "\n",
    "Ans:-----------------"
   ]
  },
  {
   "cell_type": "code",
   "execution_count": 11,
   "id": "df993229",
   "metadata": {},
   "outputs": [
    {
     "name": "stdout",
     "output_type": "stream",
     "text": [
      "Enter value in kilometers: 5\n",
      "kilometers is equal to  miles = 3.106855\n"
     ]
    }
   ],
   "source": [
    "km = float(input(\"Enter value in kilometers: \"))\n",
    "\n",
    "cf = 0.621371\n",
    "miles = km * cf\n",
    "\n",
    "print(\"kilometers is equal to  miles =\" , miles)"
   ]
  },
  {
   "cell_type": "code",
   "execution_count": null,
   "id": "4630e3e7",
   "metadata": {},
   "outputs": [],
   "source": [
    "2. Write a Python program to convert Celsius to Fahrenheit?\n",
    "\n",
    "Ans:-------"
   ]
  },
  {
   "cell_type": "code",
   "execution_count": 18,
   "id": "0232728b",
   "metadata": {},
   "outputs": [
    {
     "name": "stdout",
     "output_type": "stream",
     "text": [
      "Enter the Temperature in Celsius :\n",
      "37.2\n",
      "Temperature in Fahrenheit : 98.96000000000001\n"
     ]
    }
   ],
   "source": [
    "celsius = float(input(\"Enter the Temperature in Celsius :\\n\"))\n",
    "fahrenheit = (9/5 * celsius) + 32\n",
    "print(\"Temperature in Fahrenheit :\", fahrenheit)"
   ]
  },
  {
   "cell_type": "code",
   "execution_count": null,
   "id": "532db6ad",
   "metadata": {},
   "outputs": [],
   "source": [
    "3. Write a Python program to display calendar?\n",
    "\n",
    "Ans:- ---------"
   ]
  },
  {
   "cell_type": "code",
   "execution_count": 19,
   "id": "89913a27",
   "metadata": {},
   "outputs": [
    {
     "name": "stdout",
     "output_type": "stream",
     "text": [
      "Enter year = 2002\n",
      "Enter month in number = 5\n",
      "      May 2002\n",
      "Mo Tu We Th Fr Sa Su\n",
      "       1  2  3  4  5\n",
      " 6  7  8  9 10 11 12\n",
      "13 14 15 16 17 18 19\n",
      "20 21 22 23 24 25 26\n",
      "27 28 29 30 31\n",
      "\n"
     ]
    }
   ],
   "source": [
    "import calendar\n",
    "yy = int(input(\"Enter year = \"))\n",
    "mm = int(input(\"Enter month in number = \"))\n",
    "print(calendar.month(yy,mm))"
   ]
  },
  {
   "cell_type": "code",
   "execution_count": null,
   "id": "623bb06c",
   "metadata": {},
   "outputs": [],
   "source": [
    "4. Write a Python program to solve quadratic equation?\n",
    "\n",
    "Ans:- ------------------------"
   ]
  },
  {
   "cell_type": "code",
   "execution_count": 21,
   "id": "9777cd5f",
   "metadata": {},
   "outputs": [
    {
     "name": "stdout",
     "output_type": "stream",
     "text": [
      "Enter a = 8\n",
      "Enter b = 5\n",
      "Enter c = 9\n",
      "(-0.3125+1.0135796712641785j) , (-0.3125-1.0135796712641785j)\n"
     ]
    }
   ],
   "source": [
    "# Formula:\n",
    "# x=-b+-sqrt(b**2-4ac)/2*a\n",
    "\n",
    "\n",
    "import cmath\n",
    "a=int(input(\"Enter a = \"))\n",
    "b=int(input(\"Enter b = \"))\n",
    "c=int(input(\"Enter c = \"))\n",
    "discriminant = (b**2)-(4*a*c)\n",
    "sol_one = (-b+cmath.sqrt(discriminant))/(2*a)\n",
    "sol_two = (-b-cmath.sqrt(discriminant))/(2*a)\n",
    "print(sol_one ,\",\", sol_two)"
   ]
  },
  {
   "cell_type": "code",
   "execution_count": null,
   "id": "df108f30",
   "metadata": {},
   "outputs": [],
   "source": [
    "5. Write a Python program to swap two variables without temp variable?\n",
    "\n",
    "Ans:------------"
   ]
  },
  {
   "cell_type": "code",
   "execution_count": 22,
   "id": "2b266fec",
   "metadata": {},
   "outputs": [
    {
     "name": "stdout",
     "output_type": "stream",
     "text": [
      "First Variable =7\n",
      "Second Variable =2\n",
      "First Variable Before swap  : 7 \n",
      " Second variable Before Swap  : 2\n",
      "After Swap : \n",
      " First Variabe : 2 \n",
      "  Second Variable : 7\n"
     ]
    }
   ],
   "source": [
    "first_variable = int(input(\"First Variable =\"))\n",
    "second_variable = int(input(\"Second Variable =\"))\n",
    "print(\"First Variable Before swap  : {} \\n Second variable Before Swap  : {}\".format(first_variable,second_variable))\n",
    "first_variable , second_variable = second_variable , first_variable\n",
    "\n",
    "print(\"After Swap : \\n First Variabe : {} \\n  Second Variable : {}\".format(first_variable , second_variable))"
   ]
  },
  {
   "cell_type": "code",
   "execution_count": null,
   "id": "81fd078b",
   "metadata": {},
   "outputs": [],
   "source": []
  }
 ],
 "metadata": {
  "kernelspec": {
   "display_name": "Python 3 (ipykernel)",
   "language": "python",
   "name": "python3"
  },
  "language_info": {
   "codemirror_mode": {
    "name": "ipython",
    "version": 3
   },
   "file_extension": ".py",
   "mimetype": "text/x-python",
   "name": "python",
   "nbconvert_exporter": "python",
   "pygments_lexer": "ipython3",
   "version": "3.10.9"
  }
 },
 "nbformat": 4,
 "nbformat_minor": 5
}
